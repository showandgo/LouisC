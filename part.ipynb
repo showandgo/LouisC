{
  "cells": [
    {
      "cell_type": "raw",
      "metadata": {},
      "source": [
        "---\n",
        "title: \"Participatory Action Research (PAR) tools\"\n",
        "format: html\n",
        "---"
      ],
      "id": "5fe6507d"
    },
    {
      "cell_type": "markdown",
      "metadata": {},
      "source": [
        "Heʻeia Map\n",
        "\n",
        "\n",
        "```{bash}\n",
        "<iframe src=\"maps/heeia_map.html\" width=\"100%\" height=\"600px\" style=\"border:none;\"></iframe>\n",
        "```"
      ],
      "id": "56af62df"
    }
  ],
  "metadata": {
    "kernelspec": {
      "display_name": "Python 3",
      "language": "python",
      "name": "python3"
    }
  },
  "nbformat": 4,
  "nbformat_minor": 5
}